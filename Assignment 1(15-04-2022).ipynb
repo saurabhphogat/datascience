{
 "cells": [
  {
   "cell_type": "markdown",
   "id": "4cc99eb7",
   "metadata": {},
   "source": [
    "<h1 style=\"font-size:3rem;color:orange;\">ASSIGNMENT 1 (15-04-2022)</h1> "
   ]
  },
  {
   "cell_type": "markdown",
   "id": "3a5fb756",
   "metadata": {},
   "source": [
    "## Ques.1: Try to extract data from index one to index 300 with a jump of 3 "
   ]
  },
  {
   "cell_type": "code",
   "execution_count": 6,
   "id": "bec47112",
   "metadata": {},
   "outputs": [],
   "source": [
    "string=\"this is My First Python programming class and i am learNING python string and its function\""
   ]
  },
  {
   "cell_type": "code",
   "execution_count": 7,
   "id": "7175fdea",
   "metadata": {},
   "outputs": [
    {
     "data": {
      "text/plain": [
       "'h   r tnrrmglsnimeNGyosi dtfco'"
      ]
     },
     "execution_count": 7,
     "metadata": {},
     "output_type": "execute_result"
    }
   ],
   "source": [
    "string[1:300:3]"
   ]
  },
  {
   "cell_type": "markdown",
   "id": "109af6b0",
   "metadata": {},
   "source": [
    "## Ques 2: Try to reverse a string without using reverse function "
   ]
  },
  {
   "cell_type": "code",
   "execution_count": 8,
   "id": "b26d0148",
   "metadata": {},
   "outputs": [
    {
     "data": {
      "text/plain": [
       "'noitcnuf sti dna gnirts nohtyp GNINrael ma i dna ssalc gnimmargorp nohtyP tsriF yM si siht'"
      ]
     },
     "execution_count": 8,
     "metadata": {},
     "output_type": "execute_result"
    }
   ],
   "source": [
    "string[::-1]"
   ]
  },
  {
   "cell_type": "markdown",
   "id": "e5f1303c",
   "metadata": {},
   "source": [
    "## Ques 3: Try to split a string after conversion of entire string in uppercase "
   ]
  },
  {
   "cell_type": "code",
   "execution_count": 9,
   "id": "739cbd87",
   "metadata": {},
   "outputs": [],
   "source": [
    "string=\"this is split string example\""
   ]
  },
  {
   "cell_type": "code",
   "execution_count": 17,
   "id": "7261c996",
   "metadata": {},
   "outputs": [],
   "source": [
    "string_to_split=string.upper()"
   ]
  },
  {
   "cell_type": "code",
   "execution_count": 19,
   "id": "1c41559a",
   "metadata": {},
   "outputs": [
    {
     "data": {
      "text/plain": [
       "'THIS IS SPLIT STRING EXAMPLE'"
      ]
     },
     "execution_count": 19,
     "metadata": {},
     "output_type": "execute_result"
    }
   ],
   "source": [
    "string_to_split"
   ]
  },
  {
   "cell_type": "code",
   "execution_count": 20,
   "id": "7635eaf8",
   "metadata": {},
   "outputs": [
    {
     "data": {
      "text/plain": [
       "['THIS', 'IS', 'SPLIT', 'STRING', 'EXAMPLE']"
      ]
     },
     "execution_count": 20,
     "metadata": {},
     "output_type": "execute_result"
    }
   ],
   "source": [
    "string_to_split.split()"
   ]
  },
  {
   "cell_type": "markdown",
   "id": "fa7e0d02",
   "metadata": {},
   "source": [
    "##  Ques 4: try to convert the whole string into lower case"
   ]
  },
  {
   "cell_type": "code",
   "execution_count": 21,
   "id": "1f2c7b1a",
   "metadata": {},
   "outputs": [],
   "source": [
    "string=\"LOWER\""
   ]
  },
  {
   "cell_type": "code",
   "execution_count": 22,
   "id": "a25523c3",
   "metadata": {},
   "outputs": [
    {
     "data": {
      "text/plain": [
       "'lower'"
      ]
     },
     "execution_count": 22,
     "metadata": {},
     "output_type": "execute_result"
    }
   ],
   "source": [
    "string.lower()"
   ]
  },
  {
   "cell_type": "markdown",
   "id": "29a55110",
   "metadata": {},
   "source": [
    "## Ques 5: Try to capitalize the whole string"
   ]
  },
  {
   "cell_type": "code",
   "execution_count": 32,
   "id": "d57b898b",
   "metadata": {},
   "outputs": [],
   "source": [
    "string_1=\"hello,my name is \"\n",
    "string_2=\"saurabh\""
   ]
  },
  {
   "cell_type": "code",
   "execution_count": 33,
   "id": "9d25ae09",
   "metadata": {},
   "outputs": [
    {
     "name": "stdout",
     "output_type": "stream",
     "text": [
      "Hello,my name is Saurabh\n"
     ]
    }
   ],
   "source": [
    "print(string_1.capitalize()+string_2.capitalize())"
   ]
  },
  {
   "cell_type": "markdown",
   "id": "94a38d79",
   "metadata": {},
   "source": [
    "## Ques 6: Write a diference between isalnum() and isalpha()"
   ]
  },
  {
   "cell_type": "markdown",
   "id": "e39f07f6",
   "metadata": {},
   "source": [
    "### isalnum() :- The isalnum() method returns True if all the characters are alphanumeric, meaning alphabet letter (a-z) and numbers (0-9).\n"
   ]
  },
  {
   "cell_type": "code",
   "execution_count": 34,
   "id": "fee28d0b",
   "metadata": {},
   "outputs": [],
   "source": [
    "string=\"saurabh1234\""
   ]
  },
  {
   "cell_type": "code",
   "execution_count": 35,
   "id": "91d7c4aa",
   "metadata": {},
   "outputs": [
    {
     "data": {
      "text/plain": [
       "True"
      ]
     },
     "execution_count": 35,
     "metadata": {},
     "output_type": "execute_result"
    }
   ],
   "source": [
    "string.isalnum()"
   ]
  },
  {
   "cell_type": "markdown",
   "id": "0775bd92",
   "metadata": {},
   "source": [
    "### The isalnum() method returns False if the string contains special characters such as SPACE,!,@,#,$,% etc. "
   ]
  },
  {
   "cell_type": "code",
   "execution_count": 36,
   "id": "5a8c055f",
   "metadata": {},
   "outputs": [],
   "source": [
    "string=\"$aurabh!\"\n"
   ]
  },
  {
   "cell_type": "code",
   "execution_count": 37,
   "id": "ed568f0c",
   "metadata": {},
   "outputs": [
    {
     "data": {
      "text/plain": [
       "False"
      ]
     },
     "execution_count": 37,
     "metadata": {},
     "output_type": "execute_result"
    }
   ],
   "source": [
    "string.isalnum()"
   ]
  },
  {
   "cell_type": "markdown",
   "id": "900b3148",
   "metadata": {},
   "source": [
    "### isalpha() :- The isalpha() method returns True if all the characters are alphabet letters (a-z)."
   ]
  },
  {
   "cell_type": "code",
   "execution_count": 38,
   "id": "7548c27b",
   "metadata": {},
   "outputs": [],
   "source": [
    "string=\"Saurabh\""
   ]
  },
  {
   "cell_type": "code",
   "execution_count": 39,
   "id": "50262dec",
   "metadata": {},
   "outputs": [
    {
     "data": {
      "text/plain": [
       "True"
      ]
     },
     "execution_count": 39,
     "metadata": {},
     "output_type": "execute_result"
    }
   ],
   "source": [
    "string.isalpha()"
   ]
  },
  {
   "cell_type": "markdown",
   "id": "4614a96b",
   "metadata": {},
   "source": [
    "### The isalpha() method returns False if the string contains special characters such as SPACE,!,@,#,$,% etc or it contains numbers(0-9)."
   ]
  },
  {
   "cell_type": "code",
   "execution_count": 40,
   "id": "79fba188",
   "metadata": {},
   "outputs": [],
   "source": [
    "string=\"Saurabh1234\""
   ]
  },
  {
   "cell_type": "code",
   "execution_count": 41,
   "id": "db1767de",
   "metadata": {},
   "outputs": [
    {
     "data": {
      "text/plain": [
       "False"
      ]
     },
     "execution_count": 41,
     "metadata": {},
     "output_type": "execute_result"
    }
   ],
   "source": [
    "string.isalpha()"
   ]
  },
  {
   "cell_type": "markdown",
   "id": "b9b02a08",
   "metadata": {},
   "source": [
    "## Ques 7 : Try to give an example of expand tab"
   ]
  },
  {
   "cell_type": "code",
   "execution_count": 42,
   "id": "45cd0916",
   "metadata": {},
   "outputs": [],
   "source": [
    "string=\"1121231234\"\n",
    "string_expand_tab=\"1\\t12\\t123\\t1234\""
   ]
  },
  {
   "cell_type": "code",
   "execution_count": 43,
   "id": "5bbf4ff3",
   "metadata": {},
   "outputs": [
    {
     "name": "stdout",
     "output_type": "stream",
     "text": [
      "1121231234\n",
      "1\t12\t123\t1234\n"
     ]
    }
   ],
   "source": [
    "print(string)\n",
    "print(string_expand_tab)\n"
   ]
  },
  {
   "cell_type": "markdown",
   "id": "30218011",
   "metadata": {},
   "source": [
    "## Ques 8 : Give an example of strip , lstrip and rstrip"
   ]
  },
  {
   "cell_type": "code",
   "execution_count": 44,
   "id": "30cdd01c",
   "metadata": {},
   "outputs": [],
   "source": [
    "string=\"   hello    \""
   ]
  },
  {
   "cell_type": "code",
   "execution_count": 45,
   "id": "ca31d8f3",
   "metadata": {},
   "outputs": [
    {
     "data": {
      "text/plain": [
       "'hello'"
      ]
     },
     "execution_count": 45,
     "metadata": {},
     "output_type": "execute_result"
    }
   ],
   "source": [
    "string.strip()"
   ]
  },
  {
   "cell_type": "code",
   "execution_count": 47,
   "id": "96995da3",
   "metadata": {},
   "outputs": [
    {
     "data": {
      "text/plain": [
       "'hello    '"
      ]
     },
     "execution_count": 47,
     "metadata": {},
     "output_type": "execute_result"
    }
   ],
   "source": [
    "string.lstrip()"
   ]
  },
  {
   "cell_type": "code",
   "execution_count": 48,
   "id": "ec7c4fac",
   "metadata": {},
   "outputs": [
    {
     "data": {
      "text/plain": [
       "'   hello'"
      ]
     },
     "execution_count": 48,
     "metadata": {},
     "output_type": "execute_result"
    }
   ],
   "source": [
    "string.rstrip()"
   ]
  },
  {
   "cell_type": "markdown",
   "id": "07a40e65",
   "metadata": {},
   "source": [
    "## Ques 9 : Replace a string character by another character by taking your own example"
   ]
  },
  {
   "cell_type": "code",
   "execution_count": 52,
   "id": "d2d6e330",
   "metadata": {},
   "outputs": [],
   "source": [
    "string=\"one five three four\""
   ]
  },
  {
   "cell_type": "code",
   "execution_count": 53,
   "id": "e1807a5b",
   "metadata": {},
   "outputs": [
    {
     "data": {
      "text/plain": [
       "'one two three four'"
      ]
     },
     "execution_count": 53,
     "metadata": {},
     "output_type": "execute_result"
    }
   ],
   "source": [
    "string.replace(\"five\",\"two\")"
   ]
  },
  {
   "cell_type": "markdown",
   "id": "3293324e",
   "metadata": {},
   "source": [
    "## Ques 10 :  Try  to give a defination of string center function with and example"
   ]
  },
  {
   "cell_type": "markdown",
   "id": "ae8f05ff",
   "metadata": {},
   "source": [
    "### The string center() method will center align the string using a specified character\n",
    "     \n",
    "###     SYNTAX : string.center(length, fill character)\n",
    "     \n",
    "###     By default the fill character is taken as space.\n"
   ]
  },
  {
   "cell_type": "code",
   "execution_count": 56,
   "id": "0ee95fd5",
   "metadata": {},
   "outputs": [],
   "source": [
    "string=\"saurabh\""
   ]
  },
  {
   "cell_type": "code",
   "execution_count": 57,
   "id": "feb961fb",
   "metadata": {},
   "outputs": [
    {
     "data": {
      "text/plain": [
       "'      saurabh       '"
      ]
     },
     "execution_count": 57,
     "metadata": {},
     "output_type": "execute_result"
    }
   ],
   "source": [
    "string.center(20)"
   ]
  },
  {
   "cell_type": "code",
   "execution_count": 61,
   "id": "728598c9",
   "metadata": {},
   "outputs": [
    {
     "data": {
      "text/plain": [
       "'******saurabh*******'"
      ]
     },
     "execution_count": 61,
     "metadata": {},
     "output_type": "execute_result"
    }
   ],
   "source": [
    "string.center(20,\"*\")"
   ]
  },
  {
   "cell_type": "markdown",
   "id": "b6199102",
   "metadata": {},
   "source": [
    "## Ques 11 : Write your own definition of compiler and interpreter without copy paste form internet in your own language"
   ]
  },
  {
   "cell_type": "markdown",
   "id": "d4c93afc",
   "metadata": {},
   "source": [
    "### Both Compiler and Interpreter are program that converts source codes into machine language to make it easy for computers to understand it. \n",
    "### But there are some diffrences between both of them:"
   ]
  },
  {
   "cell_type": "markdown",
   "id": "5d8697a1",
   "metadata": {},
   "source": [
    "### 1. The compiler takes a program written in high level language and translate it into machine language at once, whereas an Interpreter translates the program statement into machine language one by one."
   ]
  },
  {
   "cell_type": "markdown",
   "id": "d83e932e",
   "metadata": {},
   "source": [
    "### 2.Therefore, A compiler is relatively faster as it takes the entire program at one go, whereas interpreter compiles one line of code at a time making it slower than the compiler. "
   ]
  },
  {
   "cell_type": "markdown",
   "id": "7428f26a",
   "metadata": {},
   "source": [
    " ### 3. As the compiler scans the entire code in on go it requires more memory. Interpreter on the other hand scans code line by line thus requires less memory."
   ]
  },
  {
   "cell_type": "markdown",
   "id": "d69e8a8d",
   "metadata": {},
   "source": [
    "### 4.In case of compiler error is displayed only when the entire complilation of the code is done. Whereas the interpreter displays the error of each statement one by one."
   ]
  },
  {
   "cell_type": "markdown",
   "id": "b34ac893",
   "metadata": {},
   "source": [
    "### 5.Examples of compiler programming language are C, C++, C#.\n",
    "###    Examples of intereter programming language are Python, PHP, Perl."
   ]
  },
  {
   "cell_type": "markdown",
   "id": "96f696ed",
   "metadata": {},
   "source": [
    "## Ques 12 : Python is a interpreted of compiled language give a clear ans with your understanding "
   ]
  },
  {
   "cell_type": "markdown",
   "id": "08741c0f",
   "metadata": {},
   "source": [
    "###  Python code is translated into machine code during the execution of the program line by line. Therefore Python is an interpreted language."
   ]
  },
  {
   "cell_type": "markdown",
   "id": "7a2e6252",
   "metadata": {},
   "source": [
    "## Ques 13: Try to write a usecase of python with your understanding"
   ]
  },
  {
   "cell_type": "markdown",
   "id": "f819e1ec",
   "metadata": {},
   "source": [
    "### Python has become a preferred choice for trading.\n",
    "### Python makes it easy to build statistical models with ease due to the availability of sufficient scientific libraries such as Pandas , Numpy , Matplotlib, TAlib and more.\n",
    "### Using Python for Trading help Traders in algo trading, building own data, order mangement,risk management backtesting etc."
   ]
  },
  {
   "cell_type": "code",
   "execution_count": null,
   "id": "481eb345",
   "metadata": {},
   "outputs": [],
   "source": []
  }
 ],
 "metadata": {
  "kernelspec": {
   "display_name": "Python 3 (ipykernel)",
   "language": "python",
   "name": "python3"
  },
  "language_info": {
   "codemirror_mode": {
    "name": "ipython",
    "version": 3
   },
   "file_extension": ".py",
   "mimetype": "text/x-python",
   "name": "python",
   "nbconvert_exporter": "python",
   "pygments_lexer": "ipython3",
   "version": "3.10.4"
  }
 },
 "nbformat": 4,
 "nbformat_minor": 5
}
